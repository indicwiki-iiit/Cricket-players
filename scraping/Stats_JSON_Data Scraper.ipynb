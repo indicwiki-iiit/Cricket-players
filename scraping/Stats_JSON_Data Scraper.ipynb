{
  "nbformat": 4,
  "nbformat_minor": 0,
  "metadata": {
    "colab": {
      "name": "Untitled17.ipynb",
      "provenance": [],
      "collapsed_sections": []
    },
    "kernelspec": {
      "display_name": "Python 3",
      "name": "python3"
    },
    "language_info": {
      "name": "python"
    }
  },
  "cells": [
    {
      "cell_type": "code",
      "metadata": {
        "id": "S97geSsCC5EF"
      },
      "source": [
        "from bs4 import BeautifulSoup as bf\n",
        "import requests\n",
        "import pandas as pd\n",
        "import json\n",
        "import urllib\n",
        "import numpy as np"
      ],
      "execution_count": null,
      "outputs": []
    },
    {
      "cell_type": "code",
      "metadata": {
        "id": "kwLT3yKdUODr"
      },
      "source": [
        "home =list()\n",
        "away =list()\n",
        "neutral =list()"
      ],
      "execution_count": null,
      "outputs": []
    },
    {
      "cell_type": "code",
      "metadata": {
        "id": "4nKQoknqatkU"
      },
      "source": [
        "cs = pd.read_csv('cricket_players.csv')"
      ],
      "execution_count": null,
      "outputs": []
    },
    {
      "cell_type": "code",
      "metadata": {
        "id": "n79JHS97az-4"
      },
      "source": [
        "list_url = list(cs[\"Cricinfo_id\"])"
      ],
      "execution_count": null,
      "outputs": []
    },
    {
      "cell_type": "code",
      "metadata": {
        "id": "UV44qn4FrKo8"
      },
      "source": [
        "te_od = list()"
      ],
      "execution_count": null,
      "outputs": []
    },
    {
      "cell_type": "code",
      "metadata": {
        "id": "8SRNUZoAsKSM"
      },
      "source": [
        "prio = {  'all':11 ,'odi':2,'test':1 , 't20i':3 }"
      ],
      "execution_count": null,
      "outputs": []
    },
    {
      "cell_type": "code",
      "metadata": {
        "id": "thfGSJQ1tbs3"
      },
      "source": [
        "list_val = list(prio.values())"
      ],
      "execution_count": null,
      "outputs": []
    },
    {
      "cell_type": "code",
      "metadata": {
        "id": "s3mxFZjJstI5"
      },
      "source": [
        "def url_len(a,b):\n",
        "  for i in range(len(b)):\n",
        "    url= \"https://hs-consumer-api.espncricinfo.com/v1/pages/player/stats/summary?playerId=\"+ str(a) +\"&recordClassId=\"+str(b[i])+\"&type=BOWLING\"\n",
        "    #url = \"https://hs-consumer-api.espncricinfo.com/v1/pages/player/stats/summary?playerId=\"+ str(a) +\"&recordClassId=\"+str(b[i])+\"&type=ALLROUND\"\n",
        "    data = json.load(urllib.request.urlopen(url))\n",
        "    try:\n",
        "      content = data['summary']['groups']\n",
        "    except:\n",
        "      content = []\n",
        "    if(len(content) > 1):\n",
        "      v = 1\n",
        "      #print(v)\n",
        "      return content\n",
        "    else:\n",
        "      v = 0\n",
        "      #print(v)\n",
        "  if(v == 0):\n",
        "    return \"nan\""
      ],
      "execution_count": null,
      "outputs": []
    },
    {
      "cell_type": "code",
      "metadata": {
        "id": "E2S4LaEwjn2C"
      },
      "source": [
        "pd.set_option('display.max_columns', 500)\n",
        "pd.set_option('display.width', 1000)"
      ],
      "execution_count": null,
      "outputs": []
    },
    {
      "cell_type": "code",
      "metadata": {
        "id": "U-GEYyDnuBcR"
      },
      "source": [
        "no_val = list()\n",
        "tot_list = list()\n",
        "for k in range(7380,len(list_url)):\n",
        "  print(k)\n",
        "  l = url_len(list_url[k],list_val)\n",
        "  if (l != \"nan\"):\n",
        "    for i in l:\n",
        "      tot_trop = dict()\n",
        "      if(i['type'] == 'MAJOR_TROPHY'):\n",
        "        new = dict()\n",
        "        for j in i['stats']:\n",
        "          new[j['tt']] = j\n",
        "          #j[\"Cricinfo_id\"] = list_url[k]\n",
        "        tot_trop[\"MAJOR_TROPHY\"] = [new]\n",
        "        tot_trop[\"Cricinfo_id\"] = list_url[k]\n",
        "        la = pd.DataFrame(tot_trop,index=[0])\n",
        "        tot_list.append(la)\n",
        "        break\n",
        "  else:\n",
        "    no_val.append(list_url[k])\n",
        "    #print(list_url[k])"
      ],
      "execution_count": null,
      "outputs": []
    },
    {
      "cell_type": "code",
      "metadata": {
        "id": "dZ5CZ0JpyzJk"
      },
      "source": [
        "no_val = list()\n",
        "tot_list = list()\n",
        "for k in range(len(list_url)):\n",
        "  print(k)\n",
        "  l = url_len(list_url[k],list_val)\n",
        "  if (l != \"nan\"):\n",
        "    for i in l:\n",
        "      if(i['type'] == 'HOME_OR_AWAY'):\n",
        "        for j in i['stats']:\n",
        "          j[\"Cricinfo_id\"] = list_url[k]\n",
        "          lp = pd.DataFrame(j,index=[0])\n",
        "          if (j['tt'] == 'home'):\n",
        "            home.append(lp)\n",
        "          elif (j['tt'] == 'away'):\n",
        "            away.append(lp)\n",
        "          elif (j['tt'] == 'neutral'):\n",
        "            neutral.append(lp)\n",
        "        break\n",
        "  else:\n",
        "    no_val.append(list_url[k])"
      ],
      "execution_count": null,
      "outputs": []
    },
    {
      "cell_type": "code",
      "metadata": {
        "id": "g4G8TzVuzYZO"
      },
      "source": [
        "oi = neutral[0]\n",
        "df = oi.T\n",
        "for q in range(1,len(neutral)):\n",
        "  s = pd.DataFrame(neutral[q]).T\n",
        "  df = pd.concat([df,s],axis = 1)"
      ],
      "execution_count": null,
      "outputs": []
    },
    {
      "cell_type": "code",
      "metadata": {
        "id": "ZZe0XJE-2aOk"
      },
      "source": [
        "df.T.to_csv(\"neutral_1_bowling.csv\", index=False)\n"
      ],
      "execution_count": null,
      "outputs": []
    },
    {
      "cell_type": "code",
      "metadata": {
        "id": "kkCKTA52ql3M"
      },
      "source": [
        "no = np.array(no_val)\n",
        "np.save(\"bowl_noval\",no)"
      ],
      "execution_count": null,
      "outputs": []
    },
    {
      "cell_type": "code",
      "metadata": {
        "id": "kzHAjwUIqnwL"
      },
      "source": [
        ""
      ],
      "execution_count": null,
      "outputs": []
    }
  ]
}